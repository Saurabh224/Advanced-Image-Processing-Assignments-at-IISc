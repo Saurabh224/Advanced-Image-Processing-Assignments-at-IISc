{
 "cells": [
  {
   "cell_type": "code",
   "execution_count": 25,
   "id": "54775d86",
   "metadata": {},
   "outputs": [],
   "source": [
    "import numpy as np\n",
    "import skimage.io as io\n",
    "import matplotlib.pyplot as plt\n",
    "from scipy import fft\n",
    "from scipy.integrate import quad"
   ]
  },
  {
   "cell_type": "markdown",
   "id": "9485f19c",
   "metadata": {},
   "source": [
    "# Ques 2.1 Uniform Scalar Quantizer"
   ]
  },
  {
   "cell_type": "code",
   "execution_count": 66,
   "id": "efd8a113",
   "metadata": {},
   "outputs": [],
   "source": [
    "def fun1(x):\n",
    "    \n",
    "    return (1/6)*((x - (0.5*delta))**2)*np.exp(-abs(x)/3)\n",
    "\n",
    "def fun2(x):\n",
    "    \n",
    "    return (1/6)*((x - (1.5*delta))**2)*np.exp(-abs(x)/3)"
   ]
  },
  {
   "cell_type": "code",
   "execution_count": 111,
   "id": "23273499",
   "metadata": {},
   "outputs": [],
   "source": [
    "deltaList = np.arange(0.01 , 7 , 0.01)\n",
    "dis = np.inf\n",
    "for delta in deltaList:\n",
    "    \n",
    "    I1 = quad(fun1, 0, delta)[0]\n",
    "    I2 = quad(fun2, delta, np.inf)[0]\n",
    "    ISum = I1+I2\n",
    "    if(ISum < dis):\n",
    "        \n",
    "        dis = ISum\n",
    "        optimumDelta = delta\n",
    "\n"
   ]
  },
  {
   "cell_type": "code",
   "execution_count": 112,
   "id": "f373b1ec",
   "metadata": {},
   "outputs": [
    {
     "name": "stdout",
     "output_type": "stream",
     "text": [
      "boundary_regions [-4.61, 0, 4.61]\n",
      "distortoion =  3.5334448171148582\n",
      "[-6.915000000000001, -2.305, 2.305, -6.915000000000001]\n"
     ]
    }
   ],
   "source": [
    "boundary_regions = [-opt_delta , 0 , opt_delta]\n",
    "print(\"boundary_regions\",boundary_regions)\n",
    "\n",
    "print(\"distortoion = \" , dis*2)\n",
    "quantization_region = [-1.5*opt_delta,-0.5*opt_delta,0.5*opt_delta,-1.5*opt_delta]\n",
    "print(quantization_region)"
   ]
  },
  {
   "cell_type": "code",
   "execution_count": null,
   "id": "088a428e",
   "metadata": {},
   "outputs": [],
   "source": []
  },
  {
   "cell_type": "markdown",
   "id": "ccdd44b1",
   "metadata": {},
   "source": [
    "# Ques 2.2 LLyod Max Quantizer"
   ]
  },
  {
   "cell_type": "code",
   "execution_count": 71,
   "id": "835133db",
   "metadata": {},
   "outputs": [],
   "source": [
    "def laplacian(x, xq):\n",
    "    fx = (1/6)*(np.exp(-abs(x)/3))\n",
    "    return ((x - xq)**2)*fx\n",
    "    \n",
    "\n",
    "def distortion (x_hat,tq):\n",
    "    loss = 0\n",
    "    for i in range(4):   \n",
    "      I = quad(laplacian, tq[i], tq[i+1],args=(x_hat[i]))[0]\n",
    "      loss += I\n",
    "    return loss"
   ]
  },
  {
   "cell_type": "code",
   "execution_count": 72,
   "id": "12878a78",
   "metadata": {},
   "outputs": [],
   "source": [
    "def inte_xfx(x):\n",
    "    fx = (1/6)*(np.exp(-abs(x)/3))\n",
    "    return x*fx\n",
    "\n",
    "def inte_fx(x):\n",
    "    fx = (1/6)*(np.exp(-abs(x)/3))\n",
    "    return fx"
   ]
  },
  {
   "cell_type": "code",
   "execution_count": 101,
   "id": "2a5f8e02",
   "metadata": {},
   "outputs": [
    {
     "name": "stdout",
     "output_type": "stream",
     "text": [
      "Starting Guess  [-1.2, -0.4, 0.4, 1.5]\n",
      "No of iterations=  73\n",
      "Quantization Levels =  [-7.746730441307015, -1.7469566004181836, 1.8151744411665172, 7.815405623079784]\n",
      "Decision Boundaries =  [-inf, -4.746843520862599, 0.034108920374166796, 4.81529003212315, inf]\n",
      "\n",
      "\n",
      "Starting Guess  [-1.5, -0.5, 0.5, 1.5]\n",
      "No of iterations=  26\n",
      "Quantization Levels =  [-7.780847561305925, -1.7808663492841292, 1.7808663492841292, 7.780847561305925]\n",
      "Decision Boundaries =  [-inf, -4.780856955295027, 0.0, 4.780856955295027, inf]\n",
      "\n",
      "\n",
      "Starting Guess  [-2.4, -1.5, 1.5, 2.6]\n",
      "No of iterations=  31\n",
      "Quantization Levels =  [-7.755814358688057, -1.75593801584322, 1.8060146684403644, 7.806137837143654]\n",
      "Decision Boundaries =  [-inf, -4.755876187265638, 0.025038326298572167, 4.806076252792009, inf]\n",
      "\n",
      "\n",
      "Starting Guess  [-2.4, -1.5, 1.5, 2.5]\n",
      "No of iterations=  25\n",
      "Quantization Levels =  [-7.7677105686121175, -1.7677654521847102, 1.7940230352587128, 7.794036181356329]\n",
      "Decision Boundaries =  [-inf, -4.767738010398414, 0.013128791537001305, 4.794029608307521, inf]\n",
      "\n",
      "\n"
     ]
    }
   ],
   "source": [
    "def Lloyd(startingGuess,noOfQuantizationLevels,precision):\n",
    "    xq_hat=startingGuess\n",
    "    tq=[-np.inf]\n",
    "\n",
    "    for i in range(1,noOfQuantizationLevels):\n",
    "        t = 0.5*(xq_hat[i-1] + xq_hat[i])\n",
    "        tq.append(t)\n",
    "    tq.append(np.inf)\n",
    "    loss = distortion(xq_hat,tq)\n",
    "    \n",
    "    for iter in range(100):\n",
    "        new_xq_hat = []\n",
    "        for i in range(noOfQuantizationLevels):\n",
    "            I1 = quad(inte_xfx,  tq[i],    tq[i+1])[0]\n",
    "            I2 = quad(inte_fx ,  tq[i],     tq[i+1])[0]\n",
    "            n_xq = I1 / I2\n",
    "            new_xq_hat.append(n_xq)\n",
    "        tq=[-np.inf]\n",
    "        for i in range(1,noOfQuantizationLevels):\n",
    "            t = 0.5*(new_xq_hat[i-1] + new_xq_hat[i])\n",
    "            tq.append(t)\n",
    "        tq.append(np.inf)\n",
    " \n",
    "        new_loss = distortion(new_xq_hat,tq)\n",
    "         #print(new_loss)\n",
    "        if(loss - new_loss <= precision ):\n",
    "            xq_hat = new_xq_hat\n",
    "            ui     = tq\n",
    "            print(\"No of iterations= \", iter)\n",
    "            \n",
    "    \n",
    "            break\n",
    "        loss = new_loss\n",
    " \n",
    "    print(\"Quantization Levels = \" , new_xq_hat)\n",
    "    \n",
    "\n",
    "    print(\"Decision Boundaries = \" , ui)\n",
    "    print(\"\\n\")\n",
    "    \n",
    "    return new_xq_hat,ui\n",
    "\n",
    "\n",
    "\n",
    "startingGuess1=[-1.2,-0.4,0.4,1.5]\n",
    "precision1=1e-10\n",
    "print(\"Starting Guess \",startingGuess1)\n",
    "QuantizationLevels1,Boundaries1=Lloyd(startingGuess1, 4,precision1) \n",
    "\n",
    "startingGuess2=[-1.5,-0.5,0.5,1.5]\n",
    "precision1=1e-10\n",
    "print(\"Starting Guess \",startingGuess2)\n",
    "QuantizationLevels2,Boundaries2=new_xq_hat2,ui2=Lloyd(startingGuess2, 4,precision1) \n",
    "\n",
    "startingGuess3=[-2.4,-1.5,1.5,2.6]\n",
    "precision1=1e-10\n",
    "print(\"Starting Guess \",startingGuess3)\n",
    "QuantizationLevels3,Boundaries3=Lloyd(startingGuess3, 4,precision1) \n",
    "\n",
    "startingGuess4=[-2.4,-1.5,1.5,2.5]\n",
    "precision1=1e-10\n",
    "print(\"Starting Guess \",startingGuess4)\n",
    "QuantizationLevels4,Boundaries4=Lloyd(startingGuess4, 4,precision1)   "
   ]
  },
  {
   "cell_type": "code",
   "execution_count": null,
   "id": "8042ea52",
   "metadata": {},
   "outputs": [],
   "source": []
  },
  {
   "cell_type": "code",
   "execution_count": null,
   "id": "5e9a78ee",
   "metadata": {},
   "outputs": [],
   "source": []
  },
  {
   "cell_type": "markdown",
   "id": "92618dbb",
   "metadata": {},
   "source": [
    "# Ques 2.3 Comparision Of Distortion"
   ]
  },
  {
   "cell_type": "code",
   "execution_count": 103,
   "id": "6df3efc8",
   "metadata": {},
   "outputs": [
    {
     "name": "stdout",
     "output_type": "stream",
     "text": [
      "3.171510446740613\n",
      "3.1715078590331776\n",
      "3.1715088854523255\n",
      "3.171508007581525\n"
     ]
    }
   ],
   "source": [
    "#xq_hat represnts quantization levels\n",
    "#ui represents decision boundaries\n",
    "distortionLLoyd1 = distortion(QuantizationLevels1 ,Boundaries1 )\n",
    "print(distortionLLoyd1)\n",
    "distortionLLoyd2 = distortion(QuantizationLevels2 ,Boundaries2 )\n",
    "print(distortionLLoyd2)\n",
    "distortionLLoyd3 = distortion(QuantizationLevels3 ,Boundaries3 )\n",
    "print(distortionLLoyd3)\n",
    "\n",
    "distortionLLoyd4 = distortion(QuantizationLevels4 ,Boundaries4 )\n",
    "print(distortionLLoyd4)"
   ]
  },
  {
   "cell_type": "code",
   "execution_count": 105,
   "id": "da961c2b",
   "metadata": {},
   "outputs": [
    {
     "name": "stdout",
     "output_type": "stream",
     "text": [
      "3.5334448171148582\n"
     ]
    }
   ],
   "source": [
    "# For Uniform Scaler Quantizer\n",
    "\n",
    "ui_uniform = [-np.inf, -opt_delta , 0 , opt_delta, np.inf]\n",
    "xq_hat_uniform = [-1.5*opt_delta,-0.5*opt_delta,0.5*opt_delta,1.5*opt_delta]\n",
    "dis_uniform  = distortion(xq_hat_uniform ,ui_uniform )\n",
    "print(dis_uniform)"
   ]
  },
  {
   "cell_type": "code",
   "execution_count": 106,
   "id": "9762ed44",
   "metadata": {},
   "outputs": [
    {
     "data": {
      "text/plain": [
       "[-inf, -4.61, 0, 4.61, inf]"
      ]
     },
     "execution_count": 106,
     "metadata": {},
     "output_type": "execute_result"
    }
   ],
   "source": [
    "ui_uniform"
   ]
  },
  {
   "cell_type": "code",
   "execution_count": 107,
   "id": "814c762f",
   "metadata": {},
   "outputs": [
    {
     "data": {
      "text/plain": [
       "[-6.915000000000001, -2.305, 2.305, 6.915000000000001]"
      ]
     },
     "execution_count": 107,
     "metadata": {},
     "output_type": "execute_result"
    }
   ],
   "source": [
    "xq_hat_uniform"
   ]
  },
  {
   "cell_type": "code",
   "execution_count": null,
   "id": "c0d0735c",
   "metadata": {},
   "outputs": [],
   "source": []
  },
  {
   "cell_type": "code",
   "execution_count": null,
   "id": "4bd6cde5",
   "metadata": {},
   "outputs": [],
   "source": []
  },
  {
   "cell_type": "code",
   "execution_count": null,
   "id": "556a9054",
   "metadata": {},
   "outputs": [],
   "source": []
  },
  {
   "cell_type": "code",
   "execution_count": null,
   "id": "6b3effde",
   "metadata": {},
   "outputs": [],
   "source": []
  },
  {
   "cell_type": "code",
   "execution_count": null,
   "id": "ca8d4e7e",
   "metadata": {},
   "outputs": [],
   "source": []
  }
 ],
 "metadata": {
  "kernelspec": {
   "display_name": "Python 3",
   "language": "python",
   "name": "python3"
  },
  "language_info": {
   "codemirror_mode": {
    "name": "ipython",
    "version": 3
   },
   "file_extension": ".py",
   "mimetype": "text/x-python",
   "name": "python",
   "nbconvert_exporter": "python",
   "pygments_lexer": "ipython3",
   "version": "3.8.8"
  }
 },
 "nbformat": 4,
 "nbformat_minor": 5
}
