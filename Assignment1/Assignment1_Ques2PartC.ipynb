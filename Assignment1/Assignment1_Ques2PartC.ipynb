{
 "cells": [
  {
   "cell_type": "code",
   "execution_count": 1,
   "id": "a9be9866",
   "metadata": {},
   "outputs": [],
   "source": [
    "import os\n",
    "import cv2\n",
    "\n",
    "import numpy as np\n",
    "import seaborn as sns\n",
    "import tensorflow as tf\n",
    "from tqdm import tqdm\n",
    "import matplotlib.pyplot as plt\n",
    "from keras.layers import Input, Lambda, Dense, Flatten\n",
    "from keras.models import Model\n",
    "from keras.applications.vgg16 import VGG16\n",
    "from keras.applications.vgg16 import preprocess_input\n",
    "from keras.preprocessing import image\n",
    "from keras.preprocessing.image import ImageDataGenerator,load_img,array_to_img,img_to_array\n",
    "from keras.models import Sequential\n",
    "import numpy as np\n",
    "from glob import glob\n",
    "import matplotlib.pyplot as plt\n",
    "\n",
    "# re-size all the images to this\n",
    "IMAGE_SIZE = [224, 224]\n",
    "\n",
    "train_path = 'Datasets/Train'\n",
    "valid_path = 'Datasets/Test'\n"
   ]
  },
  {
   "cell_type": "code",
   "execution_count": 2,
   "id": "de34184d",
   "metadata": {},
   "outputs": [],
   "source": [
    "def load_images_from_folder(folder):\n",
    "    i=0\n",
    "    images = []\n",
    "    for filename in os.listdir(folder):\n",
    "        img_array = cv2.imread(os.path.join(folder,filename))\n",
    "        img_array=np.array(img_array)\n",
    "        if img_array is not None:\n",
    "            img_array = cv2.cvtColor(img_array, cv2.COLOR_BGR2RGB)\n",
    "            new_array = cv2.resize(img_array, (256, 256))\n",
    "            images.append(new_array)\n",
    "    return images"
   ]
  },
  {
   "cell_type": "code",
   "execution_count": 3,
   "id": "c661f8f3",
   "metadata": {},
   "outputs": [],
   "source": [
    "images1=load_images_from_folder('Datasets/Train/Albatross_train')\n",
    "images2=load_images_from_folder('Datasets/Train/American_Goldfinch_train')\n",
    "images3=load_images_from_folder('Datasets/Train/anthuriam_train')\n",
    "images4=load_images_from_folder('Datasets/Train/frangipani_train')\n",
    "images5=load_images_from_folder('Datasets/Train/Marigold_train')\n",
    "images6=load_images_from_folder('Datasets/Train/Red_headed_Woodpecker_train')\n",
    "\n",
    "images11=load_images_from_folder('Datasets/test/Albatross_test')\n",
    "images22=load_images_from_folder('Datasets/test/American_Goldfinch_test')\n",
    "images33=load_images_from_folder('Datasets/test/anthuriam_test')\n",
    "images44=load_images_from_folder('Datasets/test/frangipani_test')\n",
    "images55=load_images_from_folder('Datasets/test/Marigold_test')\n",
    "images66=load_images_from_folder('Datasets/test/Red_headed_Woodpecker_test')"
   ]
  },
  {
   "cell_type": "code",
   "execution_count": 9,
   "id": "99dbfef5",
   "metadata": {},
   "outputs": [],
   "source": [
    "images1=np.array(images1)\n",
    "images2=np.array(images2)\n",
    "images3=np.array(images3)\n",
    "images4=np.array(images4)\n",
    "images5=np.array(images5)\n",
    "images6=np.array(images6)\n",
    "images11=np.array(images11)\n",
    "images22=np.array(images22)\n",
    "images33=np.array(images33)\n",
    "images44=np.array(images44)\n",
    "\n",
    "images55=np.array(images55)\n",
    "images66=np.array(images66)"
   ]
  },
  {
   "cell_type": "code",
   "execution_count": null,
   "id": "8d21838e",
   "metadata": {},
   "outputs": [],
   "source": []
  },
  {
   "cell_type": "code",
   "execution_count": 4,
   "id": "c80cb242",
   "metadata": {},
   "outputs": [
    {
     "name": "stderr",
     "output_type": "stream",
     "text": [
      "100%|█████████████████████████████████████████████████████████████████████████████████| 40/40 [00:00<00:00, 216.80it/s]\n",
      "100%|█████████████████████████████████████████████████████████████████████████████████| 40/40 [00:00<00:00, 195.60it/s]\n",
      "100%|█████████████████████████████████████████████████████████████████████████████████| 40/40 [00:00<00:00, 212.20it/s]\n",
      "100%|█████████████████████████████████████████████████████████████████████████████████| 40/40 [00:00<00:00, 203.59it/s]\n",
      "100%|█████████████████████████████████████████████████████████████████████████████████| 40/40 [00:00<00:00, 189.18it/s]\n",
      "100%|█████████████████████████████████████████████████████████████████████████████████| 40/40 [00:00<00:00, 229.07it/s]\n"
     ]
    }
   ],
   "source": [
    "DATADIR = 'Datasets/Train'\n",
    "CATEGORIES=['Albatross_train','American_Goldfinch_train','anthuriam_train','frangipani_train','Marigold_train','Red_headed_Woodpecker_train']\n",
    "Xtrain = []\n",
    "ytrain = []\n",
    "for category in CATEGORIES:\n",
    "\n",
    "    path = os.path.join(DATADIR,category)\n",
    "    class_num = CATEGORIES.index(category)\n",
    "\n",
    "    for img in tqdm(os.listdir(path)):\n",
    "        img_array = cv2.imread(os.path.join(path,img))\n",
    "        img_array = cv2.cvtColor(img_array, cv2.COLOR_BGR2RGB)\n",
    "        new_array = cv2.resize(img_array, (256, 256))\n",
    "        Xtrain.append(new_array)\n",
    "        ytrain.append(class_num)"
   ]
  },
  {
   "cell_type": "code",
   "execution_count": 5,
   "id": "a1560e9d",
   "metadata": {},
   "outputs": [
    {
     "name": "stderr",
     "output_type": "stream",
     "text": [
      "100%|█████████████████████████████████████████████████████████████████████████████████| 20/20 [00:00<00:00, 257.10it/s]\n",
      "100%|█████████████████████████████████████████████████████████████████████████████████| 20/20 [00:00<00:00, 248.19it/s]\n",
      "100%|█████████████████████████████████████████████████████████████████████████████████| 20/20 [00:00<00:00, 204.54it/s]\n",
      "100%|█████████████████████████████████████████████████████████████████████████████████| 20/20 [00:00<00:00, 233.30it/s]\n",
      "100%|█████████████████████████████████████████████████████████████████████████████████| 20/20 [00:00<00:00, 220.36it/s]\n",
      "100%|█████████████████████████████████████████████████████████████████████████████████| 20/20 [00:00<00:00, 253.96it/s]\n"
     ]
    }
   ],
   "source": [
    "DATADIR = 'Datasets/Test'\n",
    "CATEGORIES=['Albatross_test','American_Goldfinch_test','anthuriam_test','frangipani_test','Marigold_test','Red_headed_Woodpecker_test']\n",
    "Xtest = []\n",
    "ytest = []\n",
    "for category in CATEGORIES:\n",
    "\n",
    "    path = os.path.join(DATADIR,category)\n",
    "    class_num = CATEGORIES.index(category)\n",
    "\n",
    "    for img in tqdm(os.listdir(path)):\n",
    "        img_array = cv2.imread(os.path.join(path,img))\n",
    "        img_array = cv2.cvtColor(img_array, cv2.COLOR_BGR2RGB)\n",
    "        new_array = cv2.resize(img_array, (256, 256))\n",
    "        Xtest.append(new_array)\n",
    "        ytest.append(class_num)"
   ]
  },
  {
   "cell_type": "code",
   "execution_count": 6,
   "id": "ab0a3d11",
   "metadata": {},
   "outputs": [
    {
     "data": {
      "text/plain": [
       "((240, 256, 256, 3), (240,))"
      ]
     },
     "execution_count": 6,
     "metadata": {},
     "output_type": "execute_result"
    }
   ],
   "source": [
    "Xtrain = np.array(Xtrain)\n",
    "ytrain = np.array(ytrain)\n",
    "Xtrain.shape, ytrain.shape"
   ]
  },
  {
   "cell_type": "code",
   "execution_count": 7,
   "id": "3405ac95",
   "metadata": {},
   "outputs": [
    {
     "data": {
      "text/plain": [
       "((120, 256, 256, 3), (120,))"
      ]
     },
     "execution_count": 7,
     "metadata": {},
     "output_type": "execute_result"
    }
   ],
   "source": [
    "Xtest = np.array(Xtest)\n",
    "ytest = np.array(ytest)\n",
    "Xtest.shape, ytest.shape"
   ]
  },
  {
   "cell_type": "code",
   "execution_count": 8,
   "id": "e8fb577a",
   "metadata": {},
   "outputs": [],
   "source": [
    "datagen = tf.keras.preprocessing.image.ImageDataGenerator(\n",
    "            featurewise_center=True,\n",
    "            featurewise_std_normalization=True,\n",
    "            rotation_range=20,\n",
    "            width_shift_range=0.2,\n",
    "            height_shift_range=0.2,\n",
    "            horizontal_flip=True,\n",
    "            validation_split=0.2\n",
    ")"
   ]
  },
  {
   "cell_type": "code",
   "execution_count": 9,
   "id": "44275beb",
   "metadata": {},
   "outputs": [
    {
     "name": "stdout",
     "output_type": "stream",
     "text": [
      "Model: \"sequential\"\n",
      "_________________________________________________________________\n",
      "Layer (type)                 Output Shape              Param #   \n",
      "=================================================================\n",
      "conv2d (Conv2D)              (None, 256, 256, 16)      448       \n",
      "_________________________________________________________________\n",
      "batch_normalization (BatchNo (None, 256, 256, 16)      64        \n",
      "_________________________________________________________________\n",
      "max_pooling2d (MaxPooling2D) (None, 128, 128, 16)      0         \n",
      "_________________________________________________________________\n",
      "flatten (Flatten)            (None, 262144)            0         \n",
      "_________________________________________________________________\n",
      "dense (Dense)                (None, 128)               33554560  \n",
      "_________________________________________________________________\n",
      "batch_normalization_1 (Batch (None, 128)               512       \n",
      "_________________________________________________________________\n",
      "dropout (Dropout)            (None, 128)               0         \n",
      "_________________________________________________________________\n",
      "dense_1 (Dense)              (None, 6)                 774       \n",
      "=================================================================\n",
      "Total params: 33,556,358\n",
      "Trainable params: 33,556,070\n",
      "Non-trainable params: 288\n",
      "_________________________________________________________________\n"
     ]
    }
   ],
   "source": [
    "regularizer = tf.keras.regularizers.l2(l=0)\n",
    "regularizer_1 = tf.keras.regularizers.l2(l=0.001)\n",
    "init = tf.initializers.glorot_uniform()\n",
    "model = tf.keras.models.Sequential([\n",
    "                                    \n",
    "        tf.keras.layers.Conv2D(filters = 16, kernel_size = (3, 3), strides = (1, 1), padding='same', activation='relu', kernel_initializer=init, kernel_regularizer=regularizer, input_shape=(256, 256, 3)),\n",
    "        tf.keras.layers.BatchNormalization(),\n",
    "        tf.keras.layers.MaxPooling2D((2, 2), (2, 2)),\n",
    "        \n",
    "        \n",
    "        \n",
    "        #tf.keras.layers.Conv2D(160, (3, 3), (1, 1), padding='same', activation='relu', kernel_initializer=init, kernel_regularizer=regularizer),\n",
    "        #tf.keras.layers.BatchNormalization(),\n",
    "        #tf.keras.layers.MaxPooling2D((2, 2), (2, 2)),\n",
    "        #tf.keras.layers.SpatialDropout2D(0.2),\n",
    "\n",
    "        \n",
    "        tf.keras.layers.Flatten(),\n",
    "\n",
    "        tf.keras.layers.Dense(128, activation = 'relu', kernel_initializer=init, kernel_regularizer= regularizer),\n",
    "        tf.keras.layers.BatchNormalization(),\n",
    "        tf.keras.layers.Dropout(0.25),\n",
    "        tf.keras.layers.Dense(6, activation = 'softmax')\n",
    "])\n",
    "\n",
    "model.summary()"
   ]
  },
  {
   "cell_type": "markdown",
   "id": "77600bb7",
   "metadata": {},
   "source": [
    "# Using Adam"
   ]
  },
  {
   "cell_type": "code",
   "execution_count": 17,
   "id": "814be9c4",
   "metadata": {},
   "outputs": [],
   "source": [
    "model.compile(optimizer=tf.keras.optimizers.Adam(), loss='sparse_categorical_crossentropy', metrics = ['accuracy'])"
   ]
  },
  {
   "cell_type": "code",
   "execution_count": 21,
   "id": "77874989",
   "metadata": {},
   "outputs": [
    {
     "name": "stdout",
     "output_type": "stream",
     "text": [
      "Epoch 1/10\n",
      "8/8 [==============================] - 8s 996ms/step - loss: 7.6682e-04 - accuracy: 1.0000 - val_loss: 0.4614 - val_accuracy: 0.8500\n",
      "Epoch 2/10\n",
      "8/8 [==============================] - 7s 912ms/step - loss: 0.0014 - accuracy: 1.0000 - val_loss: 0.4616 - val_accuracy: 0.8583\n",
      "Epoch 3/10\n",
      "8/8 [==============================] - 8s 1s/step - loss: 0.0037 - accuracy: 1.0000 - val_loss: 0.4607 - val_accuracy: 0.8583\n",
      "Epoch 4/10\n",
      "8/8 [==============================] - 9s 1s/step - loss: 0.0023 - accuracy: 1.0000 - val_loss: 0.4606 - val_accuracy: 0.8583\n",
      "Epoch 5/10\n",
      "8/8 [==============================] - 9s 1s/step - loss: 0.0051 - accuracy: 0.9958 - val_loss: 0.4608 - val_accuracy: 0.8583\n",
      "Epoch 6/10\n",
      "8/8 [==============================] - 8s 1s/step - loss: 0.0018 - accuracy: 1.0000 - val_loss: 0.4611 - val_accuracy: 0.8583\n",
      "Epoch 7/10\n",
      "8/8 [==============================] - 7s 919ms/step - loss: 0.0011 - accuracy: 1.0000 - val_loss: 0.4617 - val_accuracy: 0.8583\n",
      "Epoch 8/10\n",
      "8/8 [==============================] - 8s 940ms/step - loss: 0.0017 - accuracy: 1.0000 - val_loss: 0.4627 - val_accuracy: 0.8583\n",
      "Epoch 9/10\n",
      "8/8 [==============================] - 7s 919ms/step - loss: 9.4270e-04 - accuracy: 1.0000 - val_loss: 0.4624 - val_accuracy: 0.8583\n",
      "Epoch 10/10\n",
      "8/8 [==============================] - 7s 848ms/step - loss: 5.5708e-04 - accuracy: 1.0000 - val_loss: 0.4622 - val_accuracy: 0.8583\n"
     ]
    }
   ],
   "source": [
    "history = model.fit(Xtrain, ytrain, epochs=10, validation_data=(Xtest,ytest), shuffle=True)"
   ]
  },
  {
   "cell_type": "code",
   "execution_count": 22,
   "id": "6237d4cb",
   "metadata": {},
   "outputs": [
    {
     "data": {
      "image/png": "[encoded data removed]",
      "text/plain": [
       "<Figure size 432x288 with 1 Axes>"
      ]
     },
     "metadata": {
      "needs_background": "light"
     },
     "output_type": "display_data"
    }
   ],
   "source": [
    "plt.plot(history.history['accuracy'])\n",
    "plt.plot(history.history['val_accuracy'])\n",
    "plt.title('model accuracy')\n",
    "plt.ylabel('accuracy')\n",
    "plt.xlabel('epoch')\n",
    "plt.legend(['train', 'val'], loc='upper left')\n",
    "plt.show()"
   ]
  },
  {
   "cell_type": "markdown",
   "id": "95b3e854",
   "metadata": {},
   "source": [
    "# Using RMSPROP"
   ]
  },
  {
   "cell_type": "code",
   "execution_count": 16,
   "id": "06d968fe",
   "metadata": {},
   "outputs": [
    {
     "name": "stdout",
     "output_type": "stream",
     "text": [
      "Epoch 1/10\n",
      "8/8 [==============================] - 9s 1s/step - loss: 0.0191 - accuracy: 0.9917 - val_loss: 0.7584 - val_accuracy: 0.7833\n",
      "Epoch 2/10\n",
      "8/8 [==============================] - 9s 1s/step - loss: 0.0156 - accuracy: 0.9958 - val_loss: 0.6329 - val_accuracy: 0.8000\n",
      "Epoch 3/10\n",
      "8/8 [==============================] - 9s 1s/step - loss: 0.0087 - accuracy: 1.0000 - val_loss: 0.5204 - val_accuracy: 0.8083\n",
      "Epoch 4/10\n",
      "8/8 [==============================] - 9s 1s/step - loss: 0.0112 - accuracy: 0.9958 - val_loss: 0.5105 - val_accuracy: 0.8167\n",
      "Epoch 5/10\n",
      "8/8 [==============================] - 10s 1s/step - loss: 0.0049 - accuracy: 1.0000 - val_loss: 0.4955 - val_accuracy: 0.8417\n",
      "Epoch 6/10\n",
      "8/8 [==============================] - 10s 1s/step - loss: 0.0032 - accuracy: 1.0000 - val_loss: 0.4814 - val_accuracy: 0.8417\n",
      "Epoch 7/10\n",
      "8/8 [==============================] - 11s 1s/step - loss: 0.0061 - accuracy: 1.0000 - val_loss: 0.4785 - val_accuracy: 0.8667\n",
      "Epoch 8/10\n",
      "8/8 [==============================] - 10s 1s/step - loss: 0.0120 - accuracy: 0.9958 - val_loss: 0.4522 - val_accuracy: 0.8417\n",
      "Epoch 9/10\n",
      "8/8 [==============================] - 10s 1s/step - loss: 0.0023 - accuracy: 1.0000 - val_loss: 0.4521 - val_accuracy: 0.8500\n",
      "Epoch 10/10\n",
      "8/8 [==============================] - 9s 1s/step - loss: 0.0182 - accuracy: 0.9958 - val_loss: 0.4589 - val_accuracy: 0.8333\n"
     ]
    },
    {
     "data": {
      "image/png": "[encoded data removed]",
      "text/plain": [
       "<Figure size 432x288 with 1 Axes>"
      ]
     },
     "metadata": {
      "needs_background": "light"
     },
     "output_type": "display_data"
    }
   ],
   "source": [
    "model.compile(optimizer='rmsprop', loss='sparse_categorical_crossentropy', metrics = ['accuracy'])\n",
    "history = model.fit(Xtrain, ytrain, epochs=10, validation_data=(Xtest,ytest), shuffle=True)\n",
    "plt.plot(history.history['accuracy'])\n",
    "plt.plot(history.history['val_accuracy'])\n",
    "plt.title('model accuracy')\n",
    "plt.ylabel('accuracy')\n",
    "plt.xlabel('epoch')\n",
    "plt.legend(['train', 'val'], loc='upper left')\n",
    "plt.show()"
   ]
  },
  {
   "cell_type": "markdown",
   "id": "734aa3d6",
   "metadata": {},
   "source": [
    "# Using Adagrad"
   ]
  },
  {
   "cell_type": "code",
   "execution_count": 20,
   "id": "4fc06560",
   "metadata": {},
   "outputs": [
    {
     "name": "stdout",
     "output_type": "stream",
     "text": [
      "Epoch 1/10\n",
      "8/8 [==============================] - 8s 939ms/step - loss: 0.0045 - accuracy: 0.9958 - val_loss: 0.4635 - val_accuracy: 0.8417\n",
      "Epoch 2/10\n",
      "8/8 [==============================] - 8s 1s/step - loss: 0.0012 - accuracy: 1.0000 - val_loss: 0.4630 - val_accuracy: 0.8417\n",
      "Epoch 3/10\n",
      "8/8 [==============================] - 7s 913ms/step - loss: 0.0033 - accuracy: 1.0000 - val_loss: 0.4616 - val_accuracy: 0.8500\n",
      "Epoch 4/10\n",
      "8/8 [==============================] - 7s 910ms/step - loss: 0.0014 - accuracy: 1.0000 - val_loss: 0.4612 - val_accuracy: 0.8500\n",
      "Epoch 5/10\n",
      "8/8 [==============================] - 7s 915ms/step - loss: 0.0022 - accuracy: 1.0000 - val_loss: 0.4613 - val_accuracy: 0.8500\n",
      "Epoch 6/10\n",
      "8/8 [==============================] - 7s 901ms/step - loss: 0.0019 - accuracy: 1.0000 - val_loss: 0.4616 - val_accuracy: 0.8500\n",
      "Epoch 7/10\n",
      "8/8 [==============================] - 7s 875ms/step - loss: 0.0024 - accuracy: 1.0000 - val_loss: 0.4621 - val_accuracy: 0.8500\n",
      "Epoch 8/10\n",
      "8/8 [==============================] - 8s 938ms/step - loss: 0.0023 - accuracy: 1.0000 - val_loss: 0.4616 - val_accuracy: 0.8500\n",
      "Epoch 9/10\n",
      "8/8 [==============================] - 7s 892ms/step - loss: 0.0013 - accuracy: 1.0000 - val_loss: 0.4611 - val_accuracy: 0.8500\n",
      "Epoch 10/10\n",
      "8/8 [==============================] - 7s 861ms/step - loss: 7.6047e-04 - accuracy: 1.0000 - val_loss: 0.4614 - val_accuracy: 0.8500\n"
     ]
    },
    {
     "data": {
      "image/png": "[encoded data removed]",
      "text/plain": [
       "<Figure size 432x288 with 1 Axes>"
      ]
     },
     "metadata": {
      "needs_background": "light"
     },
     "output_type": "display_data"
    }
   ],
   "source": [
    "model.compile(optimizer=tf.keras.optimizers.Adagrad(), loss='sparse_categorical_crossentropy', metrics = ['accuracy'])\n",
    "history = model.fit(Xtrain, ytrain, epochs=10, validation_data=(Xtest,ytest), shuffle=True)\n",
    "plt.plot(history.history['accuracy'])\n",
    "plt.plot(history.history['val_accuracy'])\n",
    "plt.title('model accuracy')\n",
    "plt.ylabel('accuracy')\n",
    "plt.xlabel('epoch')\n",
    "plt.legend(['train', 'val'], loc='upper left')\n",
    "plt.show()"
   ]
  },
  {
   "cell_type": "code",
   "execution_count": null,
   "id": "570d63c6",
   "metadata": {},
   "outputs": [],
   "source": []
  },
  {
   "cell_type": "code",
   "execution_count": null,
   "id": "033bbffa",
   "metadata": {},
   "outputs": [],
   "source": []
  },
  {
   "cell_type": "code",
   "execution_count": null,
   "id": "3cc0d6c0",
   "metadata": {},
   "outputs": [],
   "source": []
  }
 ],
 "metadata": {
  "kernelspec": {
   "display_name": "Python 3",
   "language": "python",
   "name": "python3"
  },
  "language_info": {
   "codemirror_mode": {
    "name": "ipython",
    "version": 3
   },
   "file_extension": ".py",
   "mimetype": "text/x-python",
   "name": "python",
   "nbconvert_exporter": "python",
   "pygments_lexer": "ipython3",
   "version": "3.8.8"
  }
 },
 "nbformat": 4,
 "nbformat_minor": 5
}
