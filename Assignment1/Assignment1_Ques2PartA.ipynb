{
 "cells": [
  {
   "cell_type": "code",
   "execution_count": 2,
   "id": "7859148f",
   "metadata": {},
   "outputs": [],
   "source": [
    "from keras.applications.vgg16 import VGG16\n",
    "model = VGG16()\n",
    "import os\n",
    "import cv2\n",
    "\n",
    "import numpy as np\n",
    "import seaborn as sns\n",
    "import tensorflow as tf\n",
    "from tqdm import tqdm\n",
    "import matplotlib.pyplot as plt\n",
    "import pandas as pd\n",
    "import numpy as np\n",
    "import tensorflow as tf\n",
    "from keras.models import Sequential\n",
    "from keras.layers import Convolution2D, MaxPooling2D, Flatten, Dense, Dropout, GlobalAveragePooling2D\n",
    "from keras.applications import VGG16\n",
    "import warnings\n",
    "warnings.filterwarnings(\"ignore\")   \n"
   ]
  },
  {
   "cell_type": "code",
   "execution_count": 7,
   "id": "04761cdc",
   "metadata": {},
   "outputs": [
    {
     "name": "stdout",
     "output_type": "stream",
     "text": [
      "Found 240 images belonging to 6 classes.\n",
      "Found 120 images belonging to 6 classes.\n"
     ]
    }
   ],
   "source": [
    "train_dir = \"Datasets/Train\"\n",
    "valid_dir = \"Datasets/Test\"\n",
    "\n",
    "img_width, img_height = 224, 224  # Default input size for VGG16\n",
    "vgg = VGG16(weights='imagenet', \n",
    "                  include_top=False,\n",
    "                  input_shape=(img_width, img_height, 3))\n",
    "# Extract features\n",
    "import os, shutil\n",
    "from keras.preprocessing.image import ImageDataGenerator\n",
    "\n",
    "datagen = ImageDataGenerator(rescale=1./255)\n",
    "batch_size = 32\n",
    "\n",
    "def extract_features(directory, sample_count):\n",
    "    features = np.zeros(shape=(sample_count, 7, 7, 512))  # Must be equal to the output of the convolutional base\n",
    "    labels = np.zeros(shape=(sample_count,6))\n",
    "    # Preprocess data\n",
    "    generator = datagen.flow_from_directory(directory,\n",
    "                                            target_size=(img_width,img_height),\n",
    "                                            batch_size = batch_size,\n",
    "                                            class_mode='categorical')\n",
    "    # Pass data through convolutional base\n",
    "    i = 0\n",
    "    for inputs_batch, labels_batch in generator:\n",
    "        features_batch = vgg.predict(inputs_batch)\n",
    "        features[i * batch_size: (i + 1) * batch_size] = features_batch\n",
    "        labels[i * batch_size: (i + 1) * batch_size] = labels_batch\n",
    "        i += 1\n",
    "        if i * batch_size >= sample_count:\n",
    "            break\n",
    "    return features, labels\n",
    "    \n",
    "train_features, train_labels = extract_features(train_dir, 240)  # Agree with our small dataset size\n",
    "validation_features, validation_labels = extract_features(valid_dir, 120)\n"
   ]
  },
  {
   "cell_type": "code",
   "execution_count": null,
   "id": "5651fb79",
   "metadata": {},
   "outputs": [],
   "source": []
  },
  {
   "cell_type": "code",
   "execution_count": null,
   "id": "655e6308",
   "metadata": {},
   "outputs": [],
   "source": []
  },
  {
   "cell_type": "code",
   "execution_count": null,
   "id": "da45765b",
   "metadata": {},
   "outputs": [],
   "source": []
  },
  {
   "cell_type": "code",
   "execution_count": null,
   "id": "57ba3a7a",
   "metadata": {},
   "outputs": [],
   "source": []
  },
  {
   "cell_type": "code",
   "execution_count": 8,
   "id": "27c53005",
   "metadata": {},
   "outputs": [
    {
     "name": "stdout",
     "output_type": "stream",
     "text": [
      "WARNING:tensorflow:Layer global_average_pooling2d_2 is casting an input tensor from dtype float64 to the layer's dtype of float32, which is new behavior in TensorFlow 2.  The layer has dtype float32 because its dtype defaults to floatx.\n",
      "\n",
      "If you intended to run this layer in float32, you can safely ignore this warning. If in doubt, this warning is likely only an issue if you are porting a TensorFlow 1.X model to TensorFlow 2.\n",
      "\n",
      "To change all layers to have dtype float64 by default, call `tf.keras.backend.set_floatx('float64')`. To change just this layer, pass dtype='float64' to the layer constructor. If you are the author of this layer, you can disable autocasting by passing autocast=False to the base Layer constructor.\n",
      "\n",
      "WARNING:tensorflow:Layer global_average_pooling2d_3 is casting an input tensor from dtype float64 to the layer's dtype of float32, which is new behavior in TensorFlow 2.  The layer has dtype float32 because its dtype defaults to floatx.\n",
      "\n",
      "If you intended to run this layer in float32, you can safely ignore this warning. If in doubt, this warning is likely only an issue if you are porting a TensorFlow 1.X model to TensorFlow 2.\n",
      "\n",
      "To change all layers to have dtype float64 by default, call `tf.keras.backend.set_floatx('float64')`. To change just this layer, pass dtype='float64' to the layer constructor. If you are the author of this layer, you can disable autocasting by passing autocast=False to the base Layer constructor.\n",
      "\n"
     ]
    }
   ],
   "source": [
    "XtrainForKNN=GlobalAveragePooling2D()(train_features).numpy()\n",
    "XtestForKNN=GlobalAveragePooling2D()(validation_features).numpy()\n",
    "YtestforKNN=[]\n",
    "for i in validation_labels:\n",
    "    count=0\n",
    "    for j in i:\n",
    "        if j==1:\n",
    "            YtestforKNN.append(count)\n",
    "            break\n",
    "        count+=1\n",
    "YtrainforKNN=[]\n",
    "for i in train_labels:\n",
    "    count=0\n",
    "    for j in i:\n",
    "        if j==1:\n",
    "            YtrainforKNN.append(count)\n",
    "            break\n",
    "        count+=1\n",
    "  "
   ]
  },
  {
   "cell_type": "code",
   "execution_count": 9,
   "id": "34eee8c7",
   "metadata": {},
   "outputs": [
    {
     "data": {
      "text/plain": [
       "GridSearchCV(cv=5, estimator=KNeighborsClassifier(),\n",
       "             param_grid={'n_neighbors': array([ 1,  2,  3,  4,  5,  6,  7,  8,  9, 10, 11, 12, 13, 14, 15, 16, 17,\n",
       "       18, 19, 20, 21, 22, 23, 24])})"
      ]
     },
     "execution_count": 9,
     "metadata": {},
     "output_type": "execute_result"
    }
   ],
   "source": [
    "from sklearn.neighbors import KNeighborsClassifier as KNC\n",
    "from sklearn.model_selection import GridSearchCV\n",
    "#create new a knn model\n",
    "knn2 = KNC()\n",
    "#create a dictionary of all values we want to test for n_neighbors\n",
    "param_grid = {'n_neighbors': np.arange(1, 25)}\n",
    "#use gridsearch to test all values for n_neighbors\n",
    "knn_gscv = GridSearchCV(knn2, param_grid, cv=5)\n",
    "#fit model to data\n",
    "knn_gscv.fit(XtrainForKNN, YtrainforKNN)"
   ]
  },
  {
   "cell_type": "code",
   "execution_count": null,
   "id": "2b71613e",
   "metadata": {},
   "outputs": [],
   "source": []
  },
  {
   "cell_type": "code",
   "execution_count": null,
   "id": "998771c4",
   "metadata": {},
   "outputs": [],
   "source": []
  },
  {
   "cell_type": "code",
   "execution_count": 10,
   "id": "0b2f0b0c",
   "metadata": {},
   "outputs": [
    {
     "name": "stdout",
     "output_type": "stream",
     "text": [
      "0.8916666666666667 3\n"
     ]
    }
   ],
   "source": [
    "maxAccuracy=0\n",
    "kbest=1\n",
    "for i in np.arange(1,100,1):\n",
    "    knn4=KNC(n_neighbors=i)\n",
    "    knn4.fit(XtrainForKNN, YtrainforKNN)\n",
    "    if maxAccuracy<knn4.score(XtestForKNN,YtestforKNN):\n",
    "        maxAccuracy=knn4.score(XtestForKNN,YtestforKNN)\n",
    "        kbest=i\n",
    "print(maxAccuracy,kbest)"
   ]
  },
  {
   "cell_type": "code",
   "execution_count": 11,
   "id": "cc91e522",
   "metadata": {},
   "outputs": [
    {
     "name": "stdout",
     "output_type": "stream",
     "text": [
      "K Accuracy\n",
      "1 0.85\n",
      "2 0.8583333333333333\n",
      "3 0.8916666666666667\n",
      "4 0.8583333333333333\n",
      "5 0.85\n",
      "6 0.875\n",
      "7 0.8833333333333333\n",
      "8 0.875\n",
      "9 0.8666666666666667\n",
      "10 0.8583333333333333\n",
      "11 0.8583333333333333\n",
      "12 0.8583333333333333\n",
      "13 0.8666666666666667\n",
      "14 0.8583333333333333\n",
      "15 0.875\n",
      "16 0.8916666666666667\n",
      "17 0.8583333333333333\n",
      "18 0.8666666666666667\n",
      "19 0.85\n",
      "20 0.8583333333333333\n"
     ]
    }
   ],
   "source": [
    "print(\"K Accuracy\")\n",
    "for i in np.arange(1,21,1):\n",
    "    knn4=KNC(n_neighbors=i)\n",
    "    knn4.fit(XtrainForKNN, YtrainforKNN)\n",
    "    print(i,knn4.score(XtestForKNN,YtestforKNN))\n",
    "    "
   ]
  },
  {
   "cell_type": "code",
   "execution_count": null,
   "id": "7d9dfcd7",
   "metadata": {},
   "outputs": [],
   "source": []
  },
  {
   "cell_type": "code",
   "execution_count": null,
   "id": "cd6b79bd",
   "metadata": {},
   "outputs": [],
   "source": []
  }
 ],
 "metadata": {
  "kernelspec": {
   "display_name": "Python 3",
   "language": "python",
   "name": "python3"
  },
  "language_info": {
   "codemirror_mode": {
    "name": "ipython",
    "version": 3
   },
   "file_extension": ".py",
   "mimetype": "text/x-python",
   "name": "python",
   "nbconvert_exporter": "python",
   "pygments_lexer": "ipython3",
   "version": "3.8.8"
  }
 },
 "nbformat": 4,
 "nbformat_minor": 5
}
